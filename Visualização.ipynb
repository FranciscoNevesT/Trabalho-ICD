{
 "cells": [
  {
   "cell_type": "code",
   "execution_count": 15,
   "id": "772e96e5",
   "metadata": {},
   "outputs": [],
   "source": [
    "import io\n",
    "import sqlite3\n",
    "import pandas as pd\n",
    "import matplotlib.pyplot as plt\n",
    "import time\n",
    "import seaborn as sns"
   ]
  },
  {
   "cell_type": "code",
   "execution_count": 18,
   "id": "cb571838",
   "metadata": {},
   "outputs": [],
   "source": [
    "plt.rcParams['figure.figsize']  = (16, 10)\n",
    "plt.rcParams['axes.labelsize']  = 20\n",
    "plt.rcParams['axes.titlesize']  = 20\n",
    "plt.rcParams['legend.fontsize'] = 20\n",
    "plt.rcParams['xtick.labelsize'] = 20\n",
    "plt.rcParams['ytick.labelsize'] = 20\n",
    "plt.rcParams['lines.linewidth'] = 4"
   ]
  },
  {
   "cell_type": "code",
   "execution_count": 19,
   "id": "737703c1",
   "metadata": {},
   "outputs": [],
   "source": [
    "plt.ion()\n",
    "plt.style.use('seaborn-colorblind')"
   ]
  },
  {
   "cell_type": "code",
   "execution_count": 2,
   "id": "a5620bd9",
   "metadata": {},
   "outputs": [],
   "source": [
    "conn = sqlite3.connect('sql/sql.db')\n",
    "cursor = conn.cursor()"
   ]
  },
  {
   "cell_type": "code",
   "execution_count": 3,
   "id": "aa1a4853",
   "metadata": {},
   "outputs": [
    {
     "data": {
      "text/plain": [
       "<sqlite3.Cursor at 0x1cb68ee56c0>"
      ]
     },
     "execution_count": 3,
     "metadata": {},
     "output_type": "execute_result"
    }
   ],
   "source": [
    "#Executar só uma vez a cada vez que abrir o colab\n",
    "f = io.open('sql/trabalho.sql', 'r', encoding='ISO-8859-1')\n",
    "sql = f.read()\n",
    "cursor.executescript(sql)"
   ]
  },
  {
   "cell_type": "markdown",
   "id": "d6b87d92",
   "metadata": {},
   "source": [
    "Modelo relacional\n",
    "<img src=\"diagrama/diagrama.png\">"
   ]
  },
  {
   "cell_type": "code",
   "execution_count": 21,
   "id": "2563a5c5",
   "metadata": {},
   "outputs": [
    {
     "data": {
      "text/html": [
       "<div>\n",
       "<style scoped>\n",
       "    .dataframe tbody tr th:only-of-type {\n",
       "        vertical-align: middle;\n",
       "    }\n",
       "\n",
       "    .dataframe tbody tr th {\n",
       "        vertical-align: top;\n",
       "    }\n",
       "\n",
       "    .dataframe thead th {\n",
       "        text-align: right;\n",
       "    }\n",
       "</style>\n",
       "<table border=\"1\" class=\"dataframe\">\n",
       "  <thead>\n",
       "    <tr style=\"text-align: right;\">\n",
       "      <th></th>\n",
       "      <th>COUNTRYCODE</th>\n",
       "      <th>TIPO</th>\n",
       "      <th>VALOR</th>\n",
       "      <th>SUBSET</th>\n",
       "      <th>QC</th>\n",
       "      <th>ANSWER</th>\n",
       "      <th>PERCENTAGE</th>\n",
       "      <th>NOTES</th>\n",
       "      <th>COUNTRY</th>\n",
       "    </tr>\n",
       "  </thead>\n",
       "  <tbody>\n",
       "    <tr>\n",
       "      <th>0</th>\n",
       "      <td>0</td>\n",
       "      <td>LESBIAN</td>\n",
       "      <td>437</td>\n",
       "      <td>LESBIAN</td>\n",
       "      <td>b1_a</td>\n",
       "      <td>Very widespread</td>\n",
       "      <td>8</td>\n",
       "      <td>NULL</td>\n",
       "      <td>AT</td>\n",
       "    </tr>\n",
       "    <tr>\n",
       "      <th>1</th>\n",
       "      <td>0</td>\n",
       "      <td>LESBIAN</td>\n",
       "      <td>437</td>\n",
       "      <td>LESBIAN</td>\n",
       "      <td>b1_a</td>\n",
       "      <td>Fairly widespread</td>\n",
       "      <td>34</td>\n",
       "      <td>NULL</td>\n",
       "      <td>AT</td>\n",
       "    </tr>\n",
       "    <tr>\n",
       "      <th>2</th>\n",
       "      <td>0</td>\n",
       "      <td>LESBIAN</td>\n",
       "      <td>437</td>\n",
       "      <td>LESBIAN</td>\n",
       "      <td>b1_a</td>\n",
       "      <td>Fairly rare</td>\n",
       "      <td>45</td>\n",
       "      <td>NULL</td>\n",
       "      <td>AT</td>\n",
       "    </tr>\n",
       "    <tr>\n",
       "      <th>3</th>\n",
       "      <td>0</td>\n",
       "      <td>LESBIAN</td>\n",
       "      <td>437</td>\n",
       "      <td>LESBIAN</td>\n",
       "      <td>b1_a</td>\n",
       "      <td>Very rare</td>\n",
       "      <td>9</td>\n",
       "      <td>NULL</td>\n",
       "      <td>AT</td>\n",
       "    </tr>\n",
       "    <tr>\n",
       "      <th>4</th>\n",
       "      <td>0</td>\n",
       "      <td>LESBIAN</td>\n",
       "      <td>437</td>\n",
       "      <td>LESBIAN</td>\n",
       "      <td>b1_a</td>\n",
       "      <td>Don`t know</td>\n",
       "      <td>4</td>\n",
       "      <td>[0]</td>\n",
       "      <td>AT</td>\n",
       "    </tr>\n",
       "    <tr>\n",
       "      <th>...</th>\n",
       "      <td>...</td>\n",
       "      <td>...</td>\n",
       "      <td>...</td>\n",
       "      <td>...</td>\n",
       "      <td>...</td>\n",
       "      <td>...</td>\n",
       "      <td>...</td>\n",
       "      <td>...</td>\n",
       "      <td>...</td>\n",
       "    </tr>\n",
       "    <tr>\n",
       "      <th>88190</th>\n",
       "      <td>11</td>\n",
       "      <td>TRANS</td>\n",
       "      <td>813</td>\n",
       "      <td>TRANS</td>\n",
       "      <td>fb2_9</td>\n",
       "      <td>Lesbian</td>\n",
       "      <td>1</td>\n",
       "      <td>[0]</td>\n",
       "      <td>GB</td>\n",
       "    </tr>\n",
       "    <tr>\n",
       "      <th>88191</th>\n",
       "      <td>11</td>\n",
       "      <td>TRANS</td>\n",
       "      <td>813</td>\n",
       "      <td>TRANS</td>\n",
       "      <td>fb2_9</td>\n",
       "      <td>Gay</td>\n",
       "      <td>3</td>\n",
       "      <td>[0]</td>\n",
       "      <td>GB</td>\n",
       "    </tr>\n",
       "    <tr>\n",
       "      <th>88192</th>\n",
       "      <td>11</td>\n",
       "      <td>TRANS</td>\n",
       "      <td>813</td>\n",
       "      <td>TRANS</td>\n",
       "      <td>fb2_9</td>\n",
       "      <td>Bisexual</td>\n",
       "      <td>1</td>\n",
       "      <td>[0]</td>\n",
       "      <td>GB</td>\n",
       "    </tr>\n",
       "    <tr>\n",
       "      <th>88193</th>\n",
       "      <td>11</td>\n",
       "      <td>TRANS</td>\n",
       "      <td>813</td>\n",
       "      <td>TRANS</td>\n",
       "      <td>fb2_9</td>\n",
       "      <td>Mixed sexual orientation</td>\n",
       "      <td>3</td>\n",
       "      <td>NULL</td>\n",
       "      <td>GB</td>\n",
       "    </tr>\n",
       "    <tr>\n",
       "      <th>88194</th>\n",
       "      <td>11</td>\n",
       "      <td>TRANS</td>\n",
       "      <td>813</td>\n",
       "      <td>TRANS</td>\n",
       "      <td>fb2_9</td>\n",
       "      <td>Don`t know</td>\n",
       "      <td>33</td>\n",
       "      <td>NULL</td>\n",
       "      <td>GB</td>\n",
       "    </tr>\n",
       "  </tbody>\n",
       "</table>\n",
       "<p>88195 rows × 9 columns</p>\n",
       "</div>"
      ],
      "text/plain": [
       "       COUNTRYCODE     TIPO  VALOR   SUBSET     QC                    ANSWER  \\\n",
       "0                0  LESBIAN    437  LESBIAN   b1_a           Very widespread   \n",
       "1                0  LESBIAN    437  LESBIAN   b1_a         Fairly widespread   \n",
       "2                0  LESBIAN    437  LESBIAN   b1_a               Fairly rare   \n",
       "3                0  LESBIAN    437  LESBIAN   b1_a                 Very rare   \n",
       "4                0  LESBIAN    437  LESBIAN   b1_a                Don`t know   \n",
       "...            ...      ...    ...      ...    ...                       ...   \n",
       "88190           11    TRANS    813    TRANS  fb2_9                   Lesbian   \n",
       "88191           11    TRANS    813    TRANS  fb2_9                       Gay   \n",
       "88192           11    TRANS    813    TRANS  fb2_9                  Bisexual   \n",
       "88193           11    TRANS    813    TRANS  fb2_9  Mixed sexual orientation   \n",
       "88194           11    TRANS    813    TRANS  fb2_9                Don`t know   \n",
       "\n",
       "       PERCENTAGE NOTES COUNTRY  \n",
       "0               8  NULL      AT  \n",
       "1              34  NULL      AT  \n",
       "2              45  NULL      AT  \n",
       "3               9  NULL      AT  \n",
       "4               4   [0]      AT  \n",
       "...           ...   ...     ...  \n",
       "88190           1   [0]      GB  \n",
       "88191           3   [0]      GB  \n",
       "88192           1   [0]      GB  \n",
       "88193           3  NULL      GB  \n",
       "88194          33  NULL      GB  \n",
       "\n",
       "[88195 rows x 9 columns]"
      ]
     },
     "execution_count": 21,
     "metadata": {},
     "output_type": "execute_result"
    }
   ],
   "source": [
    "query = \"\"\"\n",
    "Select *\n",
    "FROM SIZE Natural JOIN ANSWERS NATURAL JOIN Country\n",
    "where TIPO = SUBSET\n",
    "\"\"\"\n",
    "\n",
    "populacao = pd.read_sql_query(query,conn)\n",
    "populacao"
   ]
  },
  {
   "cell_type": "code",
   "execution_count": 23,
   "id": "d5709dbb",
   "metadata": {},
   "outputs": [
    {
     "data": {
      "text/plain": [
       "<AxesSubplot:xlabel='COUNTRY', ylabel='VALOR'>"
      ]
     },
     "execution_count": 23,
     "metadata": {},
     "output_type": "execute_result"
    },
    {
     "data": {
      "image/png": "[encoded data removed]",
      "text/plain": [
       "<Figure size 1152x720 with 1 Axes>"
      ]
     },
     "metadata": {
      "needs_background": "light"
     },
     "output_type": "display_data"
    }
   ],
   "source": [
    "p = populacao.groupby([\"COUNTRY\",\"TIPO\"]).mean()[[\"VALOR\"]].reset_index()\n",
    "sns.barplot(x = \"COUNTRY\", y = \"VALOR\", data = p, hue = \"TIPO\")"
   ]
  },
  {
   "cell_type": "code",
   "execution_count": null,
   "id": "06481759",
   "metadata": {},
   "outputs": [],
   "source": [
    "#f.close()\n",
    "#conn.close()"
   ]
  }
 ],
 "metadata": {
  "kernelspec": {
   "display_name": "Python 3",
   "language": "python",
   "name": "python3"
  },
  "language_info": {
   "codemirror_mode": {
    "name": "ipython",
    "version": 3
   },
   "file_extension": ".py",
   "mimetype": "text/x-python",
   "name": "python",
   "nbconvert_exporter": "python",
   "pygments_lexer": "ipython3",
   "version": "3.8.8"
  }
 },
 "nbformat": 4,
 "nbformat_minor": 5
}
