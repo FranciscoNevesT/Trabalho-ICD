{
 "cells": [
  {
   "cell_type": "code",
   "execution_count": 95,
   "id": "7835c385",
   "metadata": {},
   "outputs": [],
   "source": [
    "import io\n",
    "import sqlite3\n",
    "import pandas as pd\n",
    "import matplotlib.pyplot as plt\n",
    "import os\n",
    "import numpy as np"
   ]
  },
  {
   "cell_type": "code",
   "execution_count": 96,
   "id": "484221a0",
   "metadata": {},
   "outputs": [],
   "source": [
    "conn = sqlite3.connect('sql/conn_trabalho.db', timeout=10)\n",
    "c = conn.cursor()"
   ]
  },
  {
   "cell_type": "code",
   "execution_count": 97,
   "id": "289b8286",
   "metadata": {
    "scrolled": false
   },
   "outputs": [
    {
     "data": {
      "text/html": [
       "<div>\n",
       "<style scoped>\n",
       "    .dataframe tbody tr th:only-of-type {\n",
       "        vertical-align: middle;\n",
       "    }\n",
       "\n",
       "    .dataframe tbody tr th {\n",
       "        vertical-align: top;\n",
       "    }\n",
       "\n",
       "    .dataframe thead th {\n",
       "        text-align: right;\n",
       "    }\n",
       "</style>\n",
       "<table border=\"1\" class=\"dataframe\">\n",
       "  <thead>\n",
       "    <tr style=\"text-align: right;\">\n",
       "      <th></th>\n",
       "      <th>CountryCode</th>\n",
       "      <th>subset</th>\n",
       "      <th>question_code</th>\n",
       "      <th>question_label</th>\n",
       "      <th>answer</th>\n",
       "      <th>percentage</th>\n",
       "      <th>notes</th>\n",
       "    </tr>\n",
       "  </thead>\n",
       "  <tbody>\n",
       "    <tr>\n",
       "      <th>0</th>\n",
       "      <td>Austria</td>\n",
       "      <td>Lesbian</td>\n",
       "      <td>b1_a</td>\n",
       "      <td>In your opinion, how widespread is offensive l...</td>\n",
       "      <td>Very widespread</td>\n",
       "      <td>8</td>\n",
       "      <td>NaN</td>\n",
       "    </tr>\n",
       "    <tr>\n",
       "      <th>1</th>\n",
       "      <td>Austria</td>\n",
       "      <td>Lesbian</td>\n",
       "      <td>b1_a</td>\n",
       "      <td>In your opinion, how widespread is offensive l...</td>\n",
       "      <td>Fairly widespread</td>\n",
       "      <td>34</td>\n",
       "      <td>NaN</td>\n",
       "    </tr>\n",
       "    <tr>\n",
       "      <th>2</th>\n",
       "      <td>Austria</td>\n",
       "      <td>Lesbian</td>\n",
       "      <td>b1_a</td>\n",
       "      <td>In your opinion, how widespread is offensive l...</td>\n",
       "      <td>Fairly rare</td>\n",
       "      <td>45</td>\n",
       "      <td>NaN</td>\n",
       "    </tr>\n",
       "    <tr>\n",
       "      <th>3</th>\n",
       "      <td>Austria</td>\n",
       "      <td>Lesbian</td>\n",
       "      <td>b1_a</td>\n",
       "      <td>In your opinion, how widespread is offensive l...</td>\n",
       "      <td>Very rare</td>\n",
       "      <td>9</td>\n",
       "      <td>NaN</td>\n",
       "    </tr>\n",
       "    <tr>\n",
       "      <th>4</th>\n",
       "      <td>Austria</td>\n",
       "      <td>Lesbian</td>\n",
       "      <td>b1_a</td>\n",
       "      <td>In your opinion, how widespread is offensive l...</td>\n",
       "      <td>Don`t know</td>\n",
       "      <td>4</td>\n",
       "      <td>[0]</td>\n",
       "    </tr>\n",
       "  </tbody>\n",
       "</table>\n",
       "</div>"
      ],
      "text/plain": [
       "  CountryCode   subset question_code  \\\n",
       "0     Austria  Lesbian          b1_a   \n",
       "1     Austria  Lesbian          b1_a   \n",
       "2     Austria  Lesbian          b1_a   \n",
       "3     Austria  Lesbian          b1_a   \n",
       "4     Austria  Lesbian          b1_a   \n",
       "\n",
       "                                      question_label             answer  \\\n",
       "0  In your opinion, how widespread is offensive l...    Very widespread   \n",
       "1  In your opinion, how widespread is offensive l...  Fairly widespread   \n",
       "2  In your opinion, how widespread is offensive l...        Fairly rare   \n",
       "3  In your opinion, how widespread is offensive l...          Very rare   \n",
       "4  In your opinion, how widespread is offensive l...         Don`t know   \n",
       "\n",
       "  percentage notes  \n",
       "0          8   NaN  \n",
       "1         34   NaN  \n",
       "2         45   NaN  \n",
       "3          9   NaN  \n",
       "4          4   [0]  "
      ]
     },
     "execution_count": 97,
     "metadata": {},
     "output_type": "execute_result"
    }
   ],
   "source": [
    "dataB = pd.read_csv(\"dataset/LGBT_Survey_DailyLife.csv\")\n",
    "dataB.head()"
   ]
  },
  {
   "cell_type": "code",
   "execution_count": 98,
   "id": "32123b28",
   "metadata": {},
   "outputs": [
    {
     "data": {
      "text/plain": [
       "0        Austria\n",
       "1        Austria\n",
       "2        Austria\n",
       "3        Austria\n",
       "4        Austria\n",
       "          ...   \n",
       "34015    Average\n",
       "34016    Average\n",
       "34017    Average\n",
       "34018    Average\n",
       "34019    Average\n",
       "Name: CountryCode, Length: 34020, dtype: object"
      ]
     },
     "execution_count": 98,
     "metadata": {},
     "output_type": "execute_result"
    }
   ],
   "source": [
    "dataB[\"CountryCode\"]"
   ]
  },
  {
   "cell_type": "markdown",
   "id": "ff102775",
   "metadata": {},
   "source": [
    "# Criando as tabelas"
   ]
  },
  {
   "cell_type": "code",
   "execution_count": 99,
   "id": "74f8cc85",
   "metadata": {},
   "outputs": [
    {
     "data": {
      "text/plain": [
       "<sqlite3.Cursor at 0x234d012de30>"
      ]
     },
     "execution_count": 99,
     "metadata": {},
     "output_type": "execute_result"
    }
   ],
   "source": [
    "c.execute('''CREATE TABLE COUNTRY\n",
    "             (COUNTRYCODE         INT NOT NULL,\n",
    "              COUNTRY             TEXT NOT NULL,\n",
    "              \n",
    "              PRIMARY KEY(COUNTRYCODE)\n",
    "              \n",
    "             )''')"
   ]
  },
  {
   "cell_type": "code",
   "execution_count": 100,
   "id": "a4e738be",
   "metadata": {},
   "outputs": [
    {
     "data": {
      "text/plain": [
       "<sqlite3.Cursor at 0x234d012de30>"
      ]
     },
     "execution_count": 100,
     "metadata": {},
     "output_type": "execute_result"
    }
   ],
   "source": [
    "c.execute('''CREATE TABLE QUESTIONS\n",
    "             (QC                  VARCHAR(10) NOT NULL,\n",
    "              QUESTION            TEXT NOT NULL,\n",
    "              CATEGORY            TEXT NOT NULL,\n",
    "              \n",
    "              PRIMARY KEY(QC)\n",
    "             )''')"
   ]
  },
  {
   "cell_type": "code",
   "execution_count": 101,
   "id": "811958c4",
   "metadata": {},
   "outputs": [
    {
     "data": {
      "text/plain": [
       "<sqlite3.Cursor at 0x234d012de30>"
      ]
     },
     "execution_count": 101,
     "metadata": {},
     "output_type": "execute_result"
    }
   ],
   "source": [
    "c.execute('''CREATE TABLE ANSWERS\n",
    "             (COUNTRYCODE         INT NOT NULL,\n",
    "              SUBSET              TEXT NOT NULL,\n",
    "              QC                  VARCHAR(10) NOT NULL,\n",
    "              ANSWER              TEXT NOT NULL,\n",
    "              PERCENTAGE          INT NOT NULL,\n",
    "              NOTES               TEXT,\n",
    "              \n",
    "              PRIMARY KEY(COUNTRYCODE,SUBSET,QC,ANSWER),\n",
    "              \n",
    "              FOREIGN KEY(COUNTRYCODE) REFERENCES COUNTRY(COUNTRYCODE),\n",
    "              FOREIGN KEY(QC) REFERENCES QUESTIONS(QC)\n",
    "              \n",
    "             )''')"
   ]
  },
  {
   "cell_type": "code",
   "execution_count": 102,
   "id": "8f9bb55c",
   "metadata": {},
   "outputs": [
    {
     "data": {
      "text/plain": [
       "<sqlite3.Cursor at 0x234d012de30>"
      ]
     },
     "execution_count": 102,
     "metadata": {},
     "output_type": "execute_result"
    }
   ],
   "source": [
    "c.execute('''CREATE TABLE SIZE\n",
    "             (COUNTRYCODE         INT NOT NULL,\n",
    "              TIPO                TEXT NOT NULL,\n",
    "              VALOR               INT NOT NULL,\n",
    "              \n",
    "              PRIMARY KEY(COUNTRYCODE,TIPO),\n",
    "              \n",
    "              FOREIGN KEY(COUNTRYCODE) REFERENCES COUNTRY(COUNTRYCODE)\n",
    "              \n",
    "             )''')"
   ]
  },
  {
   "cell_type": "code",
   "execution_count": 103,
   "id": "429d1cc8",
   "metadata": {},
   "outputs": [
    {
     "data": {
      "text/plain": [
       "<sqlite3.Cursor at 0x234d012de30>"
      ]
     },
     "execution_count": 103,
     "metadata": {},
     "output_type": "execute_result"
    }
   ],
   "source": [
    "c.execute('''CREATE TABLE IDH\n",
    "             (COUNTRYCODE         INT NOT NULL,\n",
    "              HDI                 REAL NOT NULL,\n",
    "              LEB                 REAL NOT NULL,\n",
    "              EYS                 REAL NOT NULL,\n",
    "              MYS                 REAL NOT NULL,\n",
    "              GNI                 REAL NOT NULL,\n",
    "              GNI_HDI             REAL NOT NULL,\n",
    "              \n",
    "              PRIMARY KEY(COUNTRYCODE),\n",
    "              \n",
    "              FOREIGN KEY(COUNTRYCODE) REFERENCES COUNTRY(COUNTRYCODE)\n",
    "              \n",
    "             )''')"
   ]
  },
  {
   "cell_type": "code",
   "execution_count": 104,
   "id": "27b15a86",
   "metadata": {},
   "outputs": [
    {
     "data": {
      "text/plain": [
       "<sqlite3.Cursor at 0x234d012de30>"
      ]
     },
     "execution_count": 104,
     "metadata": {},
     "output_type": "execute_result"
    }
   ],
   "source": [
    "c.execute('''CREATE TABLE PESOS\n",
    "             (QC                  VARCHAR(10) NOT NULL,\n",
    "              ANSWER              TEXT NOT NULL,\n",
    "              VALUE               INT NOT NULL,\n",
    "              \n",
    "              PRIMARY KEY(QC,ANSWER),\n",
    "              FOREIGN KEY(QC) REFERENCES QUESTIONS(QC),\n",
    "              FOREIGN KEY(ANSWER) REFERENCES QUESTIONS(ANSWER)\n",
    "             )''')"
   ]
  },
  {
   "cell_type": "code",
   "execution_count": 105,
   "id": "3c1c00dd",
   "metadata": {},
   "outputs": [
    {
     "data": {
      "text/plain": [
       "<sqlite3.Cursor at 0x234d012de30>"
      ]
     },
     "execution_count": 105,
     "metadata": {},
     "output_type": "execute_result"
    }
   ],
   "source": [
    "c.execute('''CREATE TABLE CULTURE\n",
    "             (COUNTRYCODE         INT NOT NULL,\n",
    "              pdi                 INT,\n",
    "              idv                 INT,\n",
    "              mas                 INT,\n",
    "              uai                 INT,\n",
    "              ltowvs              INT,\n",
    "              ivr                 INT,\n",
    "              \n",
    "              PRIMARY KEY(COUNTRYCODE),\n",
    "              FOREIGN KEY(COUNTRYCODE) REFERENCES COUNTRY(COUNTRYCODE)\n",
    "             )''')"
   ]
  },
  {
   "cell_type": "code",
   "execution_count": 106,
   "id": "b05878b6",
   "metadata": {},
   "outputs": [
    {
     "data": {
      "text/plain": [
       "<sqlite3.Cursor at 0x234d012de30>"
      ]
     },
     "execution_count": 106,
     "metadata": {},
     "output_type": "execute_result"
    }
   ],
   "source": [
    "c.execute('''CREATE TABLE Religion\n",
    "             (COUNTRYCODE         INT NOT NULL,\n",
    "              Catholic                 REAL,\n",
    "              Orthodox                 REAL,\n",
    "              Protestant                 REAL,\n",
    "              OtherChristian                 REAL,\n",
    "              TotalChristians              REAL,\n",
    "              NonBeliever                 REAL,\n",
    "              Atheist                 REAL,\n",
    "              Muslim                 REAL,\n",
    "              \n",
    "              PRIMARY KEY(COUNTRYCODE),\n",
    "              FOREIGN KEY(COUNTRYCODE) REFERENCES COUNTRY(COUNTRYCODE)\n",
    "             )''')"
   ]
  },
  {
   "cell_type": "markdown",
   "id": "aaecbf26",
   "metadata": {},
   "source": [
    "# Variaveis auxiliares"
   ]
  },
  {
   "cell_type": "code",
   "execution_count": 107,
   "id": "88617a13",
   "metadata": {},
   "outputs": [],
   "source": [
    "conv = open(\"conv.txt\",\"r\")\n",
    "\n",
    "table1 = {}\n",
    "\n",
    "p = conv.read().split(\"\\n\")\n",
    "\n",
    "for x in p:\n",
    "    s = x.split(\"|\")[0][:-1].upper()\n",
    "    i = x.split(\"|\")[1][1:].upper()\n",
    "    \n",
    "    table1[i] = s"
   ]
  },
  {
   "cell_type": "code",
   "execution_count": 109,
   "id": "b32240c6",
   "metadata": {},
   "outputs": [],
   "source": [
    "conv2 = open(\"conv2.txt\",\"r\")\n",
    "\n",
    "tableC2 = {}\n",
    "\n",
    "p = conv2.read().split(\"\\n\")\n",
    "\n",
    "for x in p:\n",
    "    s = x.split(\"|\")[0][:-1].upper()\n",
    "    i = x.split(\"|\")[1][1:].upper()\n",
    "    \n",
    "    tableC2[s] = i"
   ]
  },
  {
   "cell_type": "code",
   "execution_count": 110,
   "id": "cb28b58e",
   "metadata": {},
   "outputs": [],
   "source": [
    "tableS = {\"Lesbian\": \"LESBIAN\",\n",
    "          \"Gay\": \"GAY\",\n",
    "          \"Bisexual women\" : \"BIW\",\n",
    "          \"Bisexual men\" : \"BIM\",\n",
    "          \"Transgender\" : \"TRANS\"}\n",
    "\n",
    "tableS2 = {\"Lesbian women\": \"LESBIAN\",\n",
    "          \"Gay men\": \"GAY\",\n",
    "          \"Bisexual women\" : \"BIW\",\n",
    "          \"Bisexual men\" : \"BIM\",\n",
    "          \"Transgender\" : \"TRANS\"}"
   ]
  },
  {
   "cell_type": "markdown",
   "id": "260982ae",
   "metadata": {},
   "source": [
    "\n",
    "# Populando"
   ]
  },
  {
   "cell_type": "code",
   "execution_count": 111,
   "id": "41c2ac28",
   "metadata": {},
   "outputs": [],
   "source": [
    "#Country\n",
    "\n",
    "table2 = {}\n",
    "\n",
    "data = pd.read_csv(\"dataset/LGBT_Survey_SubsetSize.csv\")\n",
    "\n",
    "data = data.drop(0)\n",
    "\n",
    "data = data.sort_values(\"CountryID\")\n",
    "\n",
    "paises = data[\"CountryID\"].unique()\n",
    "\n",
    "for x in range(len(paises)):\n",
    "    \n",
    "    table2[paises[x]] = x\n",
    "    \n",
    "    querry = \"\"\"INSERT INTO COUNTRY\n",
    "          VALUES ({},'{}') \"\"\".format(x,paises[x])\n",
    "    \n",
    "    c.execute(querry)"
   ]
  },
  {
   "cell_type": "code",
   "execution_count": 112,
   "id": "d5f8b7c4",
   "metadata": {},
   "outputs": [
    {
     "name": "stdout",
     "output_type": "stream",
     "text": [
      "dataset\\.~lock.religion.csv#\n",
      "dataset\\6-dimensions-for-website-2015-12-08-0-100.csv\n",
      "dataset\\human-development-index-hdi-2014.csv\n",
      "dataset\\LGBT_Survey_DailyLife.csv\n",
      "dataset\\LGBT_Survey_Discrimination.csv\n",
      "dataset\\LGBT_Survey_RightsAwareness.csv\n",
      "dataset\\LGBT_Survey_SubsetSize.csv\n",
      "dataset\\LGBT_Survey_TransgenderSpecificQuestions.csv\n",
      "dataset\\LGBT_Survey_ViolenceAndHarassment.csv\n",
      "dataset\\pesos.csv\n",
      "dataset\\religion.csv\n"
     ]
    }
   ],
   "source": [
    "#questions\n",
    "\n",
    "code = []\n",
    "for x in os.listdir(\"dataset\"):    \n",
    "    print(\"dataset\\{}\".format(x))\n",
    "    data = pd.read_csv(\"dataset\\{}\".format(x))\n",
    "    \n",
    "    if list(data.columns).count(\"question_code\") == 0:\n",
    "        continue\n",
    "    \n",
    "    cat = x.split(\"_\")[2]\n",
    "    cat = cat.split(\".\")[0]\n",
    "    \n",
    "    q = data[[\"question_code\",\"question_label\"]].values\n",
    "    \n",
    "    for i in q:\n",
    "        if code.count(i[0]):\n",
    "            continue\n",
    "        \n",
    "        code.append(i[0])\n",
    "        \n",
    "        querry = \"\"\"INSERT INTO QUESTIONS\n",
    "          VALUES ('{}','{}','{}') \"\"\".format(i[0],i[1],cat)\n",
    "        \n",
    "        try:\n",
    "            c.execute(querry)\n",
    "        except:\n",
    "            1+1"
   ]
  },
  {
   "cell_type": "code",
   "execution_count": 113,
   "id": "ba38de79",
   "metadata": {},
   "outputs": [],
   "source": [
    "#Answers\n",
    "\n",
    "for x in os.listdir(\"dataset\"):\n",
    "    data = pd.read_csv(\"dataset\\{}\".format(x))\n",
    "    \n",
    "    if list(data.columns).count(\"question_code\") == 0:\n",
    "        continue\n",
    "        \n",
    "    data = data.fillna(\"NULL\")\n",
    "    \n",
    "    for i in data.index:\n",
    "        sample = data.loc[i]\n",
    "        \n",
    "        try:\n",
    "            idC = table1[sample[\"CountryCode\"].upper()]\n",
    "            idC = table2[idC]\n",
    "            \n",
    "        except:\n",
    "            continue\n",
    "        \n",
    "        subset = tableS[sample[\"subset\"]]\n",
    "        qc = sample[\"question_code\"]\n",
    "        answer = sample[\"answer\"]\n",
    "        percentage = sample[\"percentage\"]\n",
    "        notes = sample[\"notes\"]\n",
    "        \n",
    "        querry = \"\"\"INSERT INTO ANSWERS\n",
    "          VALUES ({},'{}','{}','{}',{},'{}') \"\"\".format(idC,subset,qc,answer,percentage,notes)\n",
    "        \n",
    "        try:\n",
    "            c.execute(querry)            \n",
    "        except:\n",
    "            continue"
   ]
  },
  {
   "cell_type": "code",
   "execution_count": 114,
   "id": "3e9793ee",
   "metadata": {},
   "outputs": [],
   "source": [
    "#SIZE\n",
    "\n",
    "data = pd.read_csv(\"dataset/LGBT_Survey_SubsetSize.csv\")\n",
    "\n",
    "for x in data.index:\n",
    "    sample = data.loc[x]\n",
    "    \n",
    "    idC = sample[\"CountryID\"]\n",
    "    \n",
    "    try:\n",
    "        idC = table2[idC]\n",
    "    except:\n",
    "        continue\n",
    "        \n",
    "    for hi in tableS2.keys():\n",
    "        value = sample[hi]\n",
    "        \n",
    "        querry = \"\"\"INSERT INTO SIZE\n",
    "          VALUES ({},'{}',{}) \"\"\".format(idC,tableS2[hi],value)\n",
    "        \n",
    "        c.execute(querry)  "
   ]
  },
  {
   "cell_type": "code",
   "execution_count": 115,
   "id": "a601e21b",
   "metadata": {},
   "outputs": [],
   "source": [
    "#IDH\n",
    "\n",
    "data = pd.read_csv(\"dataset/human-development-index-hdi-2014.csv\")\n",
    "\n",
    "for x in range(data.shape[0]):\n",
    "    sample = data.loc[x]\n",
    "    \n",
    "    country = sample[\"Location\"]\n",
    "    \n",
    "    if list(table1.keys()).count(country.upper()) == 0:\n",
    "        continue\n",
    "    \n",
    "    idC = table1[country.upper()]\n",
    "    idC = table2[idC]\n",
    "    \n",
    "    sample = sample.values\n",
    "    sample = sample[2:]\n",
    "    \n",
    "    querry = \"\"\"INSERT INTO IDH\n",
    "          VALUES ({}\"\"\".format(idC)\n",
    "    \n",
    "    for y in sample:\n",
    "        if type(y) == str:\n",
    "            y = y.split(\",\")\n",
    "            y = \".\".join(y)\n",
    "            y =  float(y)\n",
    "            \n",
    "        querry += \",{}\".format(y)\n",
    "    \n",
    "    querry += \")\"\n",
    "    \n",
    "    c.execute(querry)"
   ]
  },
  {
   "cell_type": "code",
   "execution_count": 116,
   "id": "ba92958e",
   "metadata": {},
   "outputs": [],
   "source": [
    "#PESOS\n",
    "\n",
    "data = pd.read_csv(\"dataset/pesos.csv\",sep=\",\")\n",
    "for x in range(data.shape[0]):\n",
    "    sample = data.loc[x]\n",
    "    \n",
    "    qc = sample[\"QC\"]\n",
    "    ans = sample[\"ANSWER\"]\n",
    "    valu = sample[\"VALUE\"]\n",
    "    \n",
    "    querry = \"\"\"INSERT INTO PESOS\n",
    "          VALUES ('{}','{}',{})   \"\"\".format(qc,ans,valu)\n",
    "    \n",
    "    c.execute(querry)"
   ]
  },
  {
   "cell_type": "code",
   "execution_count": 117,
   "id": "1a85cf24",
   "metadata": {},
   "outputs": [],
   "source": [
    "#Culture\n",
    "\n",
    "data = pd.read_csv(\"dataset/6-dimensions-for-website-2015-12-08-0-100.csv\", sep = \";\")\n",
    "data = data.replace(\"#NULL!\", \"NULL\")\n",
    "\n",
    "for x in range(data.shape[0]):\n",
    "    sample = data.loc[x]\n",
    "    \n",
    "    if list(tableC2.keys()).count(sample[\"ctr\"]) == 0:\n",
    "        continue\n",
    "        \n",
    "    cc = tableC2[sample[\"ctr\"]]\n",
    "    \n",
    "    \n",
    "    valores = sample.values[2:]\n",
    "    \n",
    "    querry = \"\"\"INSERT INTO CULTURE\n",
    "          VALUES ({}\"\"\".format(cc)\n",
    "    \n",
    "    for i in valores:\n",
    "        querry += \", {}\".format(i)\n",
    "        \n",
    "    querry += \")\"\n",
    "    \n",
    "    \n",
    "    c.execute(querry)\n",
    "    \n"
   ]
  },
  {
   "cell_type": "code",
   "execution_count": 123,
   "id": "61173d58",
   "metadata": {},
   "outputs": [
    {
     "name": "stdout",
     "output_type": "stream",
     "text": [
      "            Location  Catholic  Orthodox  Protestant  Other Christian  \\\n",
      "0        Netherlands      21.9       1.9        17.8              6.2   \n",
      "1     Czech Republic      27.1       0.2         1.0              3.2   \n",
      "2             Sweden       1.6       0.9        36.5              8.6   \n",
      "3      Great Britain      12.7       9.6        14.7             19.2   \n",
      "4            Hungary      60.3       1.1         5.1              8.1   \n",
      "5             France      47.8       0.6         1.8              4.1   \n",
      "6             Latvia      26.2      24.0        16.6              9.9   \n",
      "7            Belgium      52.9       1.6         2.1              4.1   \n",
      "8              Spain      64.2       1.4         0.8              2.2   \n",
      "9            Estonia       2.8      23.2         9.0             23.6   \n",
      "10           Austria      66.5       2.2         7.2              1.9   \n",
      "11              EU28      45.3       9.6        11.1              5.6   \n",
      "12           Finland       0.1       2.0        69.7              7.4   \n",
      "13           Denmark       1.2       2.2        60.0              8.8   \n",
      "14        Luxembourg      64.8       3.5         3.6              0.7   \n",
      "15           Germany      31.1       0.9        33.1              7.5   \n",
      "16          Portugal      85.8       0.2         1.1              1.6   \n",
      "17             Italy      77.8       4.9         0.6              1.3   \n",
      "18  Northern Ireland      33.3       1.3        14.7             42.4   \n",
      "19           Croatia      84.2       2.3         0.2              0.0   \n",
      "20          Slovenia      66.6       0.9         1.5              0.2   \n",
      "21           Ireland      80.7       0.7         1.8              4.3   \n",
      "22          Slovakia      73.1       2.2         6.2              2.2   \n",
      "23         Lithuania      87.7       3.6         0.5              0.9   \n",
      "24          Bulgaria       1.6      83.3         0.1              0.8   \n",
      "25            Poland      90.7       0.2         1.0              0.4   \n",
      "26            Greece       0.4      92.9         0.1              1.0   \n",
      "27            Cyprus       1.3      96.3         0.0              0.8   \n",
      "28             Malta      95.0       0.3         0.2              0.4   \n",
      "29           Romania       5.3      89.9         3.4              1.0   \n",
      "\n",
      "    Total Christians  Non-Believer / Agnostic  Atheist  Muslim  \n",
      "0               47.8                     39.6      9.2     1.4  \n",
      "1               31.5                     38.6     25.8     0.0  \n",
      "2               47.6                     31.0     19.0     1.2  \n",
      "3               56.2                     20.6     11.8     4.7  \n",
      "4               74.6                     18.5      2.7     0.3  \n",
      "5               54.3                     17.6     22.8     3.3  \n",
      "6               76.7                     17.3      4.7     1.2  \n",
      "7               60.7                     17.1     14.9     5.2  \n",
      "8               68.6                     17.0     10.9     0.6  \n",
      "9               58.6                     16.6     22.2     0.2  \n",
      "10              77.8                     15.4      4.1     1.5  \n",
      "11              71.6                     13.6     10.4     1.8  \n",
      "12              79.2                     12.7      6.5     0.5  \n",
      "13              72.2                     12.5     13.2     0.8  \n",
      "14              69.8                     11.2     10.3     2.1  \n",
      "15              72.6                     10.7     12.8     2.2  \n",
      "16              88.7                      8.2      2.3     0.1  \n",
      "17              84.6                      8.1      4.3     0.1  \n",
      "18              91.7                      7.6      2.4     0.7  \n",
      "19              86.7                      6.6      3.6     1.3  \n",
      "20              69.2                      6.6     16.5     2.7  \n",
      "21              87.5                      5.8      4.6     0.8  \n",
      "22              83.7                      5.0      7.4     0.0  \n",
      "23              92.7                      4.2      2.6     0.0  \n",
      "24              85.8                      3.3      2.3     7.7  \n",
      "25              92.3                      2.2      3.6     0.2  \n",
      "26              94.4                      1.9      1.6     1.2  \n",
      "27              98.4                      1.1      0.5     0.0  \n",
      "28              95.9                      1.1      3.0     0.0  \n",
      "29              99.6                      0.2      0.1     0.1  \n"
     ]
    }
   ],
   "source": [
    "#Religion\n",
    "\n",
    "data = pd.read_csv(\"dataset/religion.csv\")\n",
    "\n",
    "print(data)\n",
    "\n",
    "for x in range(data.shape[0]):\n",
    "    sample = data.loc[x]\n",
    "    \n",
    "    country = sample[\"Location\"]\n",
    "    \n",
    "    if list(table1.keys()).count(country.upper()) == 0:\n",
    "        continue\n",
    "    \n",
    "    idC = table1[country.upper()]\n",
    "    idC = table2[idC]\n",
    "    \n",
    "    sample = sample.values\n",
    "    sample = sample[1:]\n",
    "    \n",
    "    querry = \"\"\"INSERT INTO Religion\n",
    "          VALUES ({}\"\"\".format(idC)\n",
    "    \n",
    "    for y in sample:\n",
    "        if type(y) == str:\n",
    "            y = y.split(\",\")\n",
    "            y = \".\".join(y)\n",
    "            y =  float(y)\n",
    "            \n",
    "        querry += \",{}\".format(y)\n",
    "    \n",
    "    querry += \")\"\n",
    "    \n",
    "    c.execute(querry)"
   ]
  },
  {
   "cell_type": "markdown",
   "id": "58319c55",
   "metadata": {},
   "source": [
    "# Salvando"
   ]
  },
  {
   "cell_type": "code",
   "execution_count": 124,
   "id": "b9061a76",
   "metadata": {},
   "outputs": [],
   "source": [
    "#backup\n",
    "#Referencia: http://pythonclub.com.br/gerenciando-banco-dados-sqlite3-python-parte1.html, https://stackoverflow.com/questions/49394737/exporting-data-from-google-colab-to-local-machine\n",
    "\n",
    "f = io.open(\"sql/trabalho.sql\",'w')\n",
    "\n",
    "for texto in conn.iterdump():\n",
    "    f.write(\"{}\\n\".format(texto))\n",
    "\n",
    "f.close()"
   ]
  },
  {
   "cell_type": "code",
   "execution_count": 125,
   "id": "6ed7a388",
   "metadata": {},
   "outputs": [],
   "source": [
    "conn.close()"
   ]
  },
  {
   "cell_type": "code",
   "execution_count": null,
   "id": "c759ea07",
   "metadata": {},
   "outputs": [],
   "source": []
  }
 ],
 "metadata": {
  "kernelspec": {
   "display_name": "Python 3",
   "language": "python",
   "name": "python3"
  },
  "language_info": {
   "codemirror_mode": {
    "name": "ipython",
    "version": 3
   },
   "file_extension": ".py",
   "mimetype": "text/x-python",
   "name": "python",
   "nbconvert_exporter": "python",
   "pygments_lexer": "ipython3",
   "version": "3.8.8"
  }
 },
 "nbformat": 4,
 "nbformat_minor": 5
}
