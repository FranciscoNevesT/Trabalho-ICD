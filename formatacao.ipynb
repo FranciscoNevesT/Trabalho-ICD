{
 "cells": [
  {
   "cell_type": "code",
   "execution_count": 1,
   "id": "7835c385",
   "metadata": {},
   "outputs": [],
   "source": [
    "import io\n",
    "import sqlite3\n",
    "import pandas as pd\n",
    "import matplotlib.pyplot as plt\n",
    "import os"
   ]
  },
  {
   "cell_type": "code",
   "execution_count": 2,
   "id": "484221a0",
   "metadata": {},
   "outputs": [],
   "source": [
    "conn = sqlite3.connect('sql/conn_trabalho.db', timeout=10)\n",
    "c = conn.cursor()"
   ]
  },
  {
   "cell_type": "code",
   "execution_count": 3,
   "id": "289b8286",
   "metadata": {
    "scrolled": false
   },
   "outputs": [
    {
     "data": {
      "text/html": [
       "<div>\n",
       "<style scoped>\n",
       "    .dataframe tbody tr th:only-of-type {\n",
       "        vertical-align: middle;\n",
       "    }\n",
       "\n",
       "    .dataframe tbody tr th {\n",
       "        vertical-align: top;\n",
       "    }\n",
       "\n",
       "    .dataframe thead th {\n",
       "        text-align: right;\n",
       "    }\n",
       "</style>\n",
       "<table border=\"1\" class=\"dataframe\">\n",
       "  <thead>\n",
       "    <tr style=\"text-align: right;\">\n",
       "      <th></th>\n",
       "      <th>CountryCode</th>\n",
       "      <th>subset</th>\n",
       "      <th>question_code</th>\n",
       "      <th>question_label</th>\n",
       "      <th>answer</th>\n",
       "      <th>percentage</th>\n",
       "      <th>notes</th>\n",
       "    </tr>\n",
       "  </thead>\n",
       "  <tbody>\n",
       "    <tr>\n",
       "      <th>0</th>\n",
       "      <td>Austria</td>\n",
       "      <td>Lesbian</td>\n",
       "      <td>b1_a</td>\n",
       "      <td>In your opinion, how widespread is offensive l...</td>\n",
       "      <td>Very widespread</td>\n",
       "      <td>8</td>\n",
       "      <td>NaN</td>\n",
       "    </tr>\n",
       "    <tr>\n",
       "      <th>1</th>\n",
       "      <td>Austria</td>\n",
       "      <td>Lesbian</td>\n",
       "      <td>b1_a</td>\n",
       "      <td>In your opinion, how widespread is offensive l...</td>\n",
       "      <td>Fairly widespread</td>\n",
       "      <td>34</td>\n",
       "      <td>NaN</td>\n",
       "    </tr>\n",
       "    <tr>\n",
       "      <th>2</th>\n",
       "      <td>Austria</td>\n",
       "      <td>Lesbian</td>\n",
       "      <td>b1_a</td>\n",
       "      <td>In your opinion, how widespread is offensive l...</td>\n",
       "      <td>Fairly rare</td>\n",
       "      <td>45</td>\n",
       "      <td>NaN</td>\n",
       "    </tr>\n",
       "    <tr>\n",
       "      <th>3</th>\n",
       "      <td>Austria</td>\n",
       "      <td>Lesbian</td>\n",
       "      <td>b1_a</td>\n",
       "      <td>In your opinion, how widespread is offensive l...</td>\n",
       "      <td>Very rare</td>\n",
       "      <td>9</td>\n",
       "      <td>NaN</td>\n",
       "    </tr>\n",
       "    <tr>\n",
       "      <th>4</th>\n",
       "      <td>Austria</td>\n",
       "      <td>Lesbian</td>\n",
       "      <td>b1_a</td>\n",
       "      <td>In your opinion, how widespread is offensive l...</td>\n",
       "      <td>Don`t know</td>\n",
       "      <td>4</td>\n",
       "      <td>[0]</td>\n",
       "    </tr>\n",
       "  </tbody>\n",
       "</table>\n",
       "</div>"
      ],
      "text/plain": [
       "  CountryCode   subset question_code  \\\n",
       "0     Austria  Lesbian          b1_a   \n",
       "1     Austria  Lesbian          b1_a   \n",
       "2     Austria  Lesbian          b1_a   \n",
       "3     Austria  Lesbian          b1_a   \n",
       "4     Austria  Lesbian          b1_a   \n",
       "\n",
       "                                      question_label             answer  \\\n",
       "0  In your opinion, how widespread is offensive l...    Very widespread   \n",
       "1  In your opinion, how widespread is offensive l...  Fairly widespread   \n",
       "2  In your opinion, how widespread is offensive l...        Fairly rare   \n",
       "3  In your opinion, how widespread is offensive l...          Very rare   \n",
       "4  In your opinion, how widespread is offensive l...         Don`t know   \n",
       "\n",
       "  percentage notes  \n",
       "0          8   NaN  \n",
       "1         34   NaN  \n",
       "2         45   NaN  \n",
       "3          9   NaN  \n",
       "4          4   [0]  "
      ]
     },
     "execution_count": 3,
     "metadata": {},
     "output_type": "execute_result"
    }
   ],
   "source": [
    "dataB = pd.read_csv(\"dataset/LGBT_Survey_DailyLife.csv\")\n",
    "dataB.head()"
   ]
  },
  {
   "cell_type": "code",
   "execution_count": 4,
   "id": "32123b28",
   "metadata": {},
   "outputs": [
    {
     "data": {
      "text/plain": [
       "0        Austria\n",
       "1        Austria\n",
       "2        Austria\n",
       "3        Austria\n",
       "4        Austria\n",
       "          ...   \n",
       "34015    Average\n",
       "34016    Average\n",
       "34017    Average\n",
       "34018    Average\n",
       "34019    Average\n",
       "Name: CountryCode, Length: 34020, dtype: object"
      ]
     },
     "execution_count": 4,
     "metadata": {},
     "output_type": "execute_result"
    }
   ],
   "source": [
    "dataB[\"CountryCode\"]"
   ]
  },
  {
   "cell_type": "markdown",
   "id": "ff102775",
   "metadata": {},
   "source": [
    "# Criando as tabelas"
   ]
  },
  {
   "cell_type": "code",
   "execution_count": 5,
   "id": "74f8cc85",
   "metadata": {},
   "outputs": [
    {
     "data": {
      "text/plain": [
       "<sqlite3.Cursor at 0x265058958f0>"
      ]
     },
     "execution_count": 5,
     "metadata": {},
     "output_type": "execute_result"
    }
   ],
   "source": [
    "c.execute('''CREATE TABLE COUNTRY\n",
    "             (COUNTRYCODE         INT NOT NULL,\n",
    "              COUNTRY             TEXT NOT NULL,\n",
    "              \n",
    "              PRIMARY KEY(COUNTRYCODE)\n",
    "              \n",
    "             )''')"
   ]
  },
  {
   "cell_type": "code",
   "execution_count": 6,
   "id": "a4e738be",
   "metadata": {},
   "outputs": [
    {
     "data": {
      "text/plain": [
       "<sqlite3.Cursor at 0x265058958f0>"
      ]
     },
     "execution_count": 6,
     "metadata": {},
     "output_type": "execute_result"
    }
   ],
   "source": [
    "c.execute('''CREATE TABLE QUESTIONS\n",
    "             (QC                  VARCHAR(10) NOT NULL,\n",
    "              QUESTION            TEXT NOT NULL,\n",
    "              CATEGORY            TEXT NOT NULL,\n",
    "              \n",
    "              PRIMARY KEY(QC)\n",
    "             )''')"
   ]
  },
  {
   "cell_type": "code",
   "execution_count": 7,
   "id": "811958c4",
   "metadata": {},
   "outputs": [
    {
     "data": {
      "text/plain": [
       "<sqlite3.Cursor at 0x265058958f0>"
      ]
     },
     "execution_count": 7,
     "metadata": {},
     "output_type": "execute_result"
    }
   ],
   "source": [
    "c.execute('''CREATE TABLE ANSWERS\n",
    "             (COUNTRYCODE         INT NOT NULL,\n",
    "              SUBSET              TEXT NOT NULL,\n",
    "              QC                  VARCHAR(10) NOT NULL,\n",
    "              ANSWER              TEXT NOT NULL,\n",
    "              PERCENTAGE          INT NOT NULL,\n",
    "              NOTES               TEXT,\n",
    "              \n",
    "              PRIMARY KEY(COUNTRYCODE,SUBSET,QC,ANSWER),\n",
    "              \n",
    "              FOREIGN KEY(COUNTRYCODE) REFERENCES COUNTRY(COUNTRYCODE),\n",
    "              FOREIGN KEY(QC) REFERENCES QUESTIONS(QC)\n",
    "              \n",
    "             )''')"
   ]
  },
  {
   "cell_type": "code",
   "execution_count": 8,
   "id": "8f9bb55c",
   "metadata": {},
   "outputs": [
    {
     "data": {
      "text/plain": [
       "<sqlite3.Cursor at 0x265058958f0>"
      ]
     },
     "execution_count": 8,
     "metadata": {},
     "output_type": "execute_result"
    }
   ],
   "source": [
    "c.execute('''CREATE TABLE SIZE\n",
    "             (COUNTRYCODE         INT NOT NULL,\n",
    "              TIPO                TEXT NOT NULL,\n",
    "              VALOR               INT NOT NULL,\n",
    "              \n",
    "              PRIMARY KEY(COUNTRYCODE,TIPO),\n",
    "              \n",
    "              FOREIGN KEY(COUNTRYCODE) REFERENCES COUNTRY(COUNTRYCODE)\n",
    "              \n",
    "             )''')"
   ]
  },
  {
   "cell_type": "code",
   "execution_count": 9,
   "id": "429d1cc8",
   "metadata": {},
   "outputs": [
    {
     "data": {
      "text/plain": [
       "<sqlite3.Cursor at 0x265058958f0>"
      ]
     },
     "execution_count": 9,
     "metadata": {},
     "output_type": "execute_result"
    }
   ],
   "source": [
    "c.execute('''CREATE TABLE IDH\n",
    "             (COUNTRYCODE         INT NOT NULL,\n",
    "              HDI                 REAL NOT NULL,\n",
    "              LEB                 REAL NOT NULL,\n",
    "              EYS                 REAL NOT NULL,\n",
    "              MYS                 REAL NOT NULL,\n",
    "              GNI                 REAL NOT NULL,\n",
    "              GNI_HDI             REAL NOT NULL,\n",
    "              \n",
    "              PRIMARY KEY(COUNTRYCODE),\n",
    "              \n",
    "              FOREIGN KEY(COUNTRYCODE) REFERENCES COUNTRY(COUNTRYCODE)\n",
    "              \n",
    "             )''')"
   ]
  },
  {
   "cell_type": "code",
   "execution_count": 10,
   "id": "27b15a86",
   "metadata": {},
   "outputs": [
    {
     "data": {
      "text/plain": [
       "<sqlite3.Cursor at 0x265058958f0>"
      ]
     },
     "execution_count": 10,
     "metadata": {},
     "output_type": "execute_result"
    }
   ],
   "source": [
    "c.execute('''CREATE TABLE PESOS\n",
    "             (QC                  VARCHAR(10) NOT NULL,\n",
    "              ANSWER              TEXT NOT NULL,\n",
    "              VALUE               INT NOT NULL,\n",
    "              \n",
    "              PRIMARY KEY(QC,ANSWER)\n",
    "             )''')"
   ]
  },
  {
   "cell_type": "markdown",
   "id": "aaecbf26",
   "metadata": {},
   "source": [
    "# Variaveis auxiliares"
   ]
  },
  {
   "cell_type": "code",
   "execution_count": 11,
   "id": "88617a13",
   "metadata": {},
   "outputs": [],
   "source": [
    "conv = open(\"conv.txt\",\"r\")\n",
    "\n",
    "table1 = {}\n",
    "\n",
    "p = conv.read().split(\"\\n\")\n",
    "\n",
    "for x in p:\n",
    "    s = x.split(\"|\")[0][:-1].upper()\n",
    "    i = x.split(\"|\")[1][1:].upper()\n",
    "    \n",
    "    table1[i] = s"
   ]
  },
  {
   "cell_type": "code",
   "execution_count": 12,
   "id": "cb28b58e",
   "metadata": {},
   "outputs": [],
   "source": [
    "tableS = {\"Lesbian\": \"LESBIAN\",\n",
    "          \"Gay\": \"GAY\",\n",
    "          \"Bisexual women\" : \"BIW\",\n",
    "          \"Bisexual men\" : \"BIM\",\n",
    "          \"Transgender\" : \"TRANS\"}\n",
    "\n",
    "tableS2 = {\"Lesbian women\": \"LESBIAN\",\n",
    "          \"Gay men\": \"GAY\",\n",
    "          \"Bisexual women\" : \"BIW\",\n",
    "          \"Bisexual men\" : \"BIM\",\n",
    "          \"Transgender\" : \"TRANS\"}"
   ]
  },
  {
   "cell_type": "markdown",
   "id": "260982ae",
   "metadata": {},
   "source": [
    "\n",
    "# Populando"
   ]
  },
  {
   "cell_type": "code",
   "execution_count": 13,
   "id": "41c2ac28",
   "metadata": {},
   "outputs": [],
   "source": [
    "#Country\n",
    "\n",
    "table2 = {}\n",
    "\n",
    "data = pd.read_csv(\"dataset/LGBT_Survey_SubsetSize.csv\")\n",
    "\n",
    "data = data.drop(0)\n",
    "\n",
    "data = data.sort_values(\"CountryID\")\n",
    "\n",
    "paises = data[\"CountryID\"].unique()\n",
    "\n",
    "for x in range(len(paises)):\n",
    "    \n",
    "    table2[paises[x]] = x\n",
    "    \n",
    "    querry = \"\"\"INSERT INTO COUNTRY\n",
    "          VALUES ({},'{}') \"\"\".format(x,paises[x])\n",
    "    \n",
    "    c.execute(querry)"
   ]
  },
  {
   "cell_type": "code",
   "execution_count": 14,
   "id": "d5f8b7c4",
   "metadata": {},
   "outputs": [
    {
     "name": "stdout",
     "output_type": "stream",
     "text": [
      "dataset\\.~lock.pesos.csv#\n",
      "dataset\\6-dimensions-for-website-2015-12-08-0-100.csv\n",
      "dataset\\human-development-index-hdi-2014.csv\n",
      "dataset\\LGBT_Survey_DailyLife.csv\n",
      "dataset\\LGBT_Survey_Discrimination.csv\n",
      "dataset\\LGBT_Survey_RightsAwareness.csv\n",
      "dataset\\LGBT_Survey_SubsetSize.csv\n",
      "dataset\\LGBT_Survey_TransgenderSpecificQuestions.csv\n",
      "dataset\\LGBT_Survey_ViolenceAndHarassment.csv\n",
      "dataset\\pesos.csv\n"
     ]
    }
   ],
   "source": [
    "#questions\n",
    "\n",
    "code = []\n",
    "for x in os.listdir(\"dataset\"):    \n",
    "    print(\"dataset\\{}\".format(x))\n",
    "    data = pd.read_csv(\"dataset\\{}\".format(x))\n",
    "    \n",
    "    if list(data.columns).count(\"question_code\") == 0:\n",
    "        continue\n",
    "    \n",
    "    cat = x.split(\"_\")[2]\n",
    "    cat = cat.split(\".\")[0]\n",
    "    \n",
    "    q = data[[\"question_code\",\"question_label\"]].values\n",
    "    \n",
    "    for i in q:\n",
    "        if code.count(i[0]):\n",
    "            continue\n",
    "        \n",
    "        code.append(i[0])\n",
    "        \n",
    "        querry = \"\"\"INSERT INTO QUESTIONS\n",
    "          VALUES ('{}','{}','{}') \"\"\".format(i[0],i[1],cat)\n",
    "        \n",
    "        try:\n",
    "            c.execute(querry)\n",
    "        except:\n",
    "            1+1"
   ]
  },
  {
   "cell_type": "code",
   "execution_count": 15,
   "id": "ba38de79",
   "metadata": {},
   "outputs": [],
   "source": [
    "#Answers\n",
    "\n",
    "for x in os.listdir(\"dataset\"):\n",
    "    data = pd.read_csv(\"dataset\\{}\".format(x))\n",
    "    \n",
    "    if list(data.columns).count(\"question_code\") == 0:\n",
    "        continue\n",
    "        \n",
    "    data = data.fillna(\"NULL\")\n",
    "    \n",
    "    for i in data.index:\n",
    "        sample = data.loc[i]\n",
    "        \n",
    "        try:\n",
    "            idC = table1[sample[\"CountryCode\"].upper()]\n",
    "            idC = table2[idC]\n",
    "            \n",
    "        except:\n",
    "            continue\n",
    "        \n",
    "        subset = tableS[sample[\"subset\"]]\n",
    "        qc = sample[\"question_code\"]\n",
    "        answer = sample[\"answer\"]\n",
    "        percentage = sample[\"percentage\"]\n",
    "        notes = sample[\"notes\"]\n",
    "        \n",
    "        querry = \"\"\"INSERT INTO ANSWERS\n",
    "          VALUES ({},'{}','{}','{}',{},'{}') \"\"\".format(idC,subset,qc,answer,percentage,notes)\n",
    "        \n",
    "        try:\n",
    "            c.execute(querry)            \n",
    "        except:\n",
    "            continue"
   ]
  },
  {
   "cell_type": "code",
   "execution_count": 16,
   "id": "3e9793ee",
   "metadata": {},
   "outputs": [],
   "source": [
    "#SIZE\n",
    "\n",
    "data = pd.read_csv(\"dataset/LGBT_Survey_SubsetSize.csv\")\n",
    "\n",
    "for x in data.index:\n",
    "    sample = data.loc[x]\n",
    "    \n",
    "    idC = sample[\"CountryID\"]\n",
    "    \n",
    "    try:\n",
    "        idC = table2[idC]\n",
    "    except:\n",
    "        continue\n",
    "        \n",
    "    for hi in tableS2.keys():\n",
    "        value = sample[hi]\n",
    "        \n",
    "        querry = \"\"\"INSERT INTO SIZE\n",
    "          VALUES ({},'{}',{}) \"\"\".format(idC,tableS2[hi],value)\n",
    "        \n",
    "        c.execute(querry)  "
   ]
  },
  {
   "cell_type": "code",
   "execution_count": 17,
   "id": "a601e21b",
   "metadata": {},
   "outputs": [],
   "source": [
    "#IDH\n",
    "\n",
    "data = pd.read_csv(\"dataset/human-development-index-hdi-2014.csv\")\n",
    "\n",
    "for x in range(data.shape[0]):\n",
    "    sample = data.loc[x]\n",
    "    \n",
    "    country = sample[\"Location\"]\n",
    "    \n",
    "    if list(table1.keys()).count(country.upper()) == 0:\n",
    "        continue\n",
    "    \n",
    "    idC = table1[country.upper()]\n",
    "    idC = table2[idC]\n",
    "    \n",
    "    sample = sample.values\n",
    "    sample = sample[2:]\n",
    "    \n",
    "    querry = \"\"\"INSERT INTO IDH\n",
    "          VALUES ({}\"\"\".format(idC)\n",
    "    \n",
    "    for y in sample:\n",
    "        if type(y) == str:\n",
    "            y = y.split(\",\")\n",
    "            y = \".\".join(y)\n",
    "            y =  float(y)\n",
    "            \n",
    "        querry += \",{}\".format(y)\n",
    "    \n",
    "    querry += \")\"\n",
    "    \n",
    "    c.execute(querry)"
   ]
  },
  {
   "cell_type": "code",
   "execution_count": 21,
   "id": "ba92958e",
   "metadata": {},
   "outputs": [],
   "source": [
    "#PESOS\n",
    "\n",
    "data = pd.read_csv(\"dataset/pesos.csv\",sep=\",\")\n",
    "for x in range(data.shape[0]):\n",
    "    sample = data.loc[x]\n",
    "    \n",
    "    qc = sample[\"QC\"]\n",
    "    ans = sample[\"ANSWER\"]\n",
    "    valu = sample[\"VALUE\"]\n",
    "    \n",
    "    querry = \"\"\"INSERT INTO PESOS\n",
    "          VALUES ('{}','{}',{})   \"\"\".format(qc,ans,valu)\n",
    "    \n",
    "    c.execute(querry)"
   ]
  },
  {
   "cell_type": "markdown",
   "id": "58319c55",
   "metadata": {},
   "source": [
    "# Salvando"
   ]
  },
  {
   "cell_type": "code",
   "execution_count": 22,
   "id": "b9061a76",
   "metadata": {},
   "outputs": [],
   "source": [
    "#backup\n",
    "#Referencia: http://pythonclub.com.br/gerenciando-banco-dados-sqlite3-python-parte1.html, https://stackoverflow.com/questions/49394737/exporting-data-from-google-colab-to-local-machine\n",
    "\n",
    "f = io.open(\"sql/trabalho.sql\",'w')\n",
    "\n",
    "for texto in conn.iterdump():\n",
    "    f.write(\"{}\\n\".format(texto))\n",
    "\n",
    "f.close()"
   ]
  },
  {
   "cell_type": "code",
   "execution_count": 23,
   "id": "6ed7a388",
   "metadata": {},
   "outputs": [],
   "source": [
    "conn.close()"
   ]
  },
  {
   "cell_type": "code",
   "execution_count": null,
   "id": "c759ea07",
   "metadata": {},
   "outputs": [],
   "source": []
  }
 ],
 "metadata": {
  "kernelspec": {
   "display_name": "Python 3",
   "language": "python",
   "name": "python3"
  },
  "language_info": {
   "codemirror_mode": {
    "name": "ipython",
    "version": 3
   },
   "file_extension": ".py",
   "mimetype": "text/x-python",
   "name": "python",
   "nbconvert_exporter": "python",
   "pygments_lexer": "ipython3",
   "version": "3.8.8"
  }
 },
 "nbformat": 4,
 "nbformat_minor": 5
}
