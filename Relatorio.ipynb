{
 "cells": [
  {
   "cell_type": "markdown",
   "id": "e0dace39",
   "metadata": {},
   "source": [
    "# ICD - Correlação entre aspectos sociais, culturais e religiosos de um país e a percepção de segurança da sua população LGBT nos países europeus"
   ]
  },
  {
   "cell_type": "markdown",
   "id": "3b8c3eeb",
   "metadata": {},
   "source": [
    "Esse relatorio tem como objetivo condensar e explicar os resultados obtidos nos notebooks de implementação."
   ]
  },
  {
   "cell_type": "markdown",
   "id": "c111f312",
   "metadata": {},
   "source": [
    "## Introdução"
   ]
  },
  {
   "cell_type": "markdown",
   "id": "70ab23f4",
   "metadata": {},
   "source": [
    "Este trabalho tem como objetivo tentar traçar uma correlação entre alguns fatores e a percepção de segurança da população LGBT. Devido ao dataset principal se referir a um questionario feito na europa, é importante lembrar que esse trabalho estará limitado ao cenário europeu."
   ]
  },
  {
   "cell_type": "markdown",
   "id": "f6174bbc",
   "metadata": {},
   "source": [
    "## Motivação"
   ]
  },
  {
   "cell_type": "markdown",
   "id": "2b742c5b",
   "metadata": {},
   "source": [
    "Sabemos que a violência contra a população LGBT é uma realidade dificil e, portanto gostariamos de melhor entender o fenomeno e suas causas. Tal entedimento é essencial para qualquer um que deseje poder resolver tal situação. "
   ]
  },
  {
   "cell_type": "markdown",
   "id": "ce29c948",
   "metadata": {},
   "source": [
    "## Perguntas"
   ]
  },
  {
   "cell_type": "markdown",
   "id": "2fd75c88",
   "metadata": {},
   "source": [
    "1 - Existe alguma relação entre o aumento do IDH do país e a maior sensação de segurança?\n",
    "\n",
    "2 - Quais são os fatores sociais e culturais que parecem mais afetar a percepção?\n",
    "\n",
    "3 - Existe alguma relação entre a religiosidade do país e a sensação de segurança?\n",
    "\n",
    "4 - Existe alguma população que sofre mais?"
   ]
  },
  {
   "cell_type": "markdown",
   "id": "134a873f",
   "metadata": {},
   "source": [
    "## Dados Utilizados"
   ]
  },
  {
   "cell_type": "markdown",
   "id": "1ed02c0d",
   "metadata": {},
   "source": [
    "### EU LGBT Survey"
   ]
  },
  {
   "cell_type": "markdown",
   "id": "626f5a14",
   "metadata": {},
   "source": [
    "#### Descrição:\n",
    "Pesquisa online realizada pela FRA (Fundamental Rights Agency) sobre diversos fatores da vivencia LGBT na Europa. Essa pesquisa foi realizada em 2012 e abarca a maioria dos paises da União Europeia mais Catalan, Croatian, Luxemburgo, Russia e Turquia. A pesquisa entrevistou um total de 93079 pessoas sobre os topicos vida diaria, discriminação, violência e \n",
    "conscientização de direitos. Para o trabalho, será somente usado os dados sobre violência"
   ]
  },
  {
   "cell_type": "markdown",
   "id": "f32c2c4e",
   "metadata": {},
   "source": [
    "#### Fonte: https://www.kaggle.com/ruslankl/european-union-lgbt-survey-2012"
   ]
  },
  {
   "cell_type": "markdown",
   "id": "e593721e",
   "metadata": {},
   "source": [
    "### Religião na europa"
   ]
  },
  {
   "cell_type": "markdown",
   "id": "af4a245a",
   "metadata": {},
   "source": [
    "#### Descrição:\n",
    "Dados que monstram em porcentagem a distribuição de religião dos paises na europa."
   ]
  },
  {
   "cell_type": "markdown",
   "id": "9d49105a",
   "metadata": {},
   "source": [
    "#### Fonte: https://en.wikipedia.org/wiki/Religion_in_the_European_Union"
   ]
  },
  {
   "cell_type": "markdown",
   "id": "1cba38d7",
   "metadata": {},
   "source": [
    "### IDH dos paises"
   ]
  },
  {
   "cell_type": "markdown",
   "id": "112b264d",
   "metadata": {},
   "source": [
    "#### Descrição:\n",
    "Dado do IDH de cada pais"
   ]
  },
  {
   "cell_type": "markdown",
   "id": "c17cfca7",
   "metadata": {},
   "source": [
    "#### Fonte: https://data.humdata.org/dataset/human-development-index-hdi-2014/resource/ccc764d4-1e53-4370-83fa-562e860e72b5"
   ]
  },
  {
   "cell_type": "markdown",
   "id": "f474cef7",
   "metadata": {},
   "source": [
    "### Dimensão cultural dos paises"
   ]
  },
  {
   "cell_type": "markdown",
   "id": "0a1fedae",
   "metadata": {},
   "source": [
    "#### Descrição:\n",
    "Seis categorias culturais aprensentados na Cultures and Organizations 3rd edition 2010. Basicamente uma quantificação para vários aspectos culturais dos paises"
   ]
  },
  {
   "cell_type": "markdown",
   "id": "4a3850fc",
   "metadata": {},
   "source": [
    "#### Fonte: https://geerthofstede.com/research-and-vsm/dimension-data-matrix/"
   ]
  },
  {
   "cell_type": "markdown",
   "id": "4390f7a9",
   "metadata": {},
   "source": [
    "## Metrificação das respostas"
   ]
  },
  {
   "cell_type": "markdown",
   "id": "4c1f6d9a",
   "metadata": {},
   "source": [
    "Como as respostas dadas eram categóricas, teve-se que converter elas para valores numéricos. A metrica adota foi definida como:\\\n",
    ".1, para quando a resposta era a mais positiva para a pergunta\\\n",
    ".0.5, para quando era uma resposta mais neutra, como \"Não sei\"\\\n",
    "0, para quando a resposta era a menos positiva para a pergunta\n",
    "\n",
    "Por conta dessa metrificação ser um pouco arbitrária, os valores absolutos não possuem um significado sozinhos, sendo necessário para se fazer a análise uma visão mais de comparação de dados"
   ]
  },
  {
   "cell_type": "markdown",
   "id": "64407a5e",
   "metadata": {},
   "source": [
    "## Análise Exploratória"
   ]
  },
  {
   "cell_type": "markdown",
   "id": "b5afc2ae",
   "metadata": {},
   "source": [
    "### Distribuição da população por país e sexualidade/identidade de gênero"
   ]
  },
  {
   "cell_type": "markdown",
   "id": "5cc61c36",
   "metadata": {},
   "source": [
    "<img src=\"imagens/Distribuicao.png\">"
   ]
  },
  {
   "cell_type": "markdown",
   "id": "ae92f7c3",
   "metadata": {},
   "source": [
    "### IDH dos países"
   ]
  },
  {
   "cell_type": "markdown",
   "id": "b233d8f1",
   "metadata": {},
   "source": [
    "<img src=\"imagens/HDI.png\">"
   ]
  },
  {
   "cell_type": "markdown",
   "id": "5253b24b",
   "metadata": {},
   "source": [
    "### Religiosidade dos paises"
   ]
  },
  {
   "cell_type": "markdown",
   "id": "950f7dee",
   "metadata": {},
   "source": [
    "<img src=\"imagens/Religion.png\">"
   ]
  },
  {
   "cell_type": "markdown",
   "id": "02a5f702",
   "metadata": {},
   "source": [
    "### Cultura dos paises"
   ]
  },
  {
   "cell_type": "markdown",
   "id": "b6b76a06",
   "metadata": {},
   "source": [
    "<img src=\"imagens/culture.png\">"
   ]
  },
  {
   "cell_type": "markdown",
   "id": "7201d54b",
   "metadata": {},
   "source": [
    "## Pontuação de cada pais"
   ]
  },
  {
   "cell_type": "markdown",
   "id": "77b620c0",
   "metadata": {},
   "source": [
    "### Essa pontuação foi gera atravez de bootstraps das respostas das perguntas normalizadas pela população simulada"
   ]
  },
  {
   "cell_type": "markdown",
   "id": "62b42a2c",
   "metadata": {},
   "source": [
    "<img src=\"imagens/populacao.png\">"
   ]
  },
  {
   "cell_type": "markdown",
   "id": "382df81c",
   "metadata": {},
   "source": [
    "# Testes de hipótese e intervalo de confiança"
   ]
  },
  {
   "cell_type": "markdown",
   "id": "39bf8d85",
   "metadata": {},
   "source": [
    "Todos os testes vão ser baseados em fazer um bootstreep das respostas para as perguntas, assim gerando varias instancias de respostas, e comparando o intervalo de confiança. Tirando o ultimo teste, os testes consistem em dividir os dados em dois grupos: o grupo verde é a metade dos paises com o dado mais alto e o vermelho é com mais baixo.\\\n",
    "Caso ocorra sobreposição dos intervalos de confiança, a hipotese nula é verdadeira\\\n",
    "O intervalo de confiança adotado é de 5%.\n",
    "\n",
    "Além disso, também foram realizados os plots e regressões lineares dos valores para melhor vizualização"
   ]
  },
  {
   "cell_type": "markdown",
   "id": "7500ec73",
   "metadata": {},
   "source": [
    "## Teste 1:"
   ]
  },
  {
   "cell_type": "markdown",
   "id": "a877d69b",
   "metadata": {},
   "source": [
    "### Hipotese Nula: Não existe coorelação entre os fatores de IHD e a pontuação dos paises"
   ]
  },
  {
   "cell_type": "markdown",
   "id": "453aec25",
   "metadata": {},
   "source": [
    "Vermelho: BG RO HR LV HU PT MT LT PL SK CY EE GR CZ\\\n",
    "Verde: IT ES SI FI AT FR BE LU GB SE DE IE NL DK\n",
    "<img src=\"imagens/hdi/hdi.png\">\n",
    "<img src=\"imagens/hdi/hdiR.png\">"
   ]
  },
  {
   "cell_type": "markdown",
   "id": "2cfcf9a3",
   "metadata": {},
   "source": [
    "Vermelho: LT LV BG RO HU SK EE HR PL CZ CY DK SI MT\\\n",
    "Verde: GB FI BE GR DE IE PT AT NL LU FR SE ES IT\n",
    "<img src=\"imagens/hdi/leb.png\">\n",
    "<img src=\"imagens/hdi/lebR.png\">"
   ]
  },
  {
   "cell_type": "markdown",
   "id": "123aac07",
   "metadata": {},
   "source": [
    "Vermelho: LU CY RO MT BG HR SK LV HU PL AT SE FR IT\\\n",
    "Verde: GB PT BE LT CZ DE EE SI FI ES GR NL IE DK\n",
    "<img src=\"imagens/hdi/EYS.png\">\n",
    "<img src=\"imagens/hdi/EYSR.png\">"
   ]
  },
  {
   "cell_type": "markdown",
   "id": "6ef5779b",
   "metadata": {},
   "source": [
    "Vermelho: BG RO HR LV HU PL LT GR EE PT SK CZ SI MT\\\n",
    "Verde: CY ES IT FR FI GB IE BE AT DE DK NL SE LU\n",
    "<img src=\"imagens/hdi/MYS.png\">\n",
    "<img src=\"imagens/hdi/MYSR.png\">"
   ]
  },
  {
   "cell_type": "markdown",
   "id": "ab997e1b",
   "metadata": {},
   "source": [
    "Vermelho: LU AT PT SE MT BE FI CY HU LV IT FR SK ES \\\n",
    "Verde: LT GB NL PL CZ RO DK DE HR SI EE BG GR IE\n",
    "<img src=\"imagens/hdi/gni.png\">\n",
    "<img src=\"imagens/hdi/gniR.png\">"
   ]
  },
  {
   "cell_type": "markdown",
   "id": "538e8224",
   "metadata": {},
   "source": [
    "Vermelho: LU AT PT SE MT BE FI CY HU LV IT FR SK ES\\\n",
    "Verde: LT GB NL PL CZ RO DK DE HR SI EE BG GR IE\n",
    "<img src=\"imagens/hdi/GNI_HDI.png\">\n",
    "<img src=\"imagens/hdi/GNI_HDIR.png\">"
   ]
  },
  {
   "cell_type": "markdown",
   "id": "c0ed6e26",
   "metadata": {},
   "source": [
    "## Teste 2:"
   ]
  },
  {
   "cell_type": "markdown",
   "id": "31dd747d",
   "metadata": {},
   "source": [
    "### Hipotese Nula: Não existe correlação entre fatores culturais e a pontuação dos paises"
   ]
  },
  {
   "cell_type": "markdown",
   "id": "d7c3ca01",
   "metadata": {},
   "source": [
    "Vermelho: \n",
    "Malta, Spain, Czech Rep, Greece, Portugal, Belgium, France, Poland, Bulgaria, Slovenia, Croatia, Romania, Slovak Rep, Cyprus \\\n",
    "Verde: \n",
    "Austria, Denmark, Ireland, Sweden, Finland, Germany, Great Britain, Netherlands, Estonia, Luxembourg, Lithuania, Latvia, Hungary, Italy\n",
    "<img src=\"imagens/culture/power distance.png\">\n",
    "<img src=\"imagens/culture/power distanceR.png\">"
   ]
  },
  {
   "cell_type": "markdown",
   "id": "b6985fce",
   "metadata": {},
   "source": [
    "Vermelho: \n",
    "Lithuania, Finland, Germany, Ireland, Latvia, Sweden, France, Denmark, Belgium, Italy, Netherlands, Hungary, Great Britain, Cypru\\\n",
    "Verde: \n",
    "Portugal, Slovenia, Romania, Bulgaria, Croatia, Greece, Spain, Slovak Rep, Austria, Czech Rep, Malta, Luxembourg, Estonia, Poland\n",
    "<img src=\"imagens/culture/ic.png\">\n",
    "<img src=\"imagens/culture/icR.png\">"
   ]
  },
  {
   "cell_type": "markdown",
   "id": "d922d0f0",
   "metadata": {},
   "source": [
    "Vermelho: \n",
    "Italy, Croatia, Hungary, Bulgaria, France, Spain, Slovenia, Romania, Poland, Belgium, Malta, Portugal, Greece, Cyprus \\\n",
    "Verde: \n",
    "Denmark, Sweden, Great Britain, Ireland, Slovak Rep, Netherlands, Finland, Estonia, Latvia, Germany, Lithuania, Luxembourg, Austria, Czech Rep\n",
    "<img src=\"imagens/culture/ua.png\">\n",
    "<img src=\"imagens/culture/uaR.png\">"
   ]
  },
  {
   "cell_type": "markdown",
   "id": "14b3bdf3",
   "metadata": {},
   "source": [
    "Vermelho: \n",
    "Malta, Luxembourg, Belgium, Greece, Czech Rep, Poland, Great Britain, Germany, Ireland, Italy, Austria, Hungary, Slovak Rep, Cyprus\\\n",
    "Verde: \n",
    "Sweden, Latvia, Netherlands, Denmark, Lithuania, Slovenia, Finland, Estonia, Portugal, Croatia, Bulgaria, Romania, Spain, France\n",
    "<img src=\"imagens/culture/mf.png\">\n",
    "<img src=\"imagens/culture/mfR.png\">"
   ]
  },
  {
   "cell_type": "markdown",
   "id": "6d8118c3",
   "metadata": {},
   "source": [
    "Vermelho: \n",
    "Austria, Italy, France, Luxembourg, Netherlands, Latvia, Bulgaria, Czech Rep, Slovak Rep, Lithuania, Estonia, Belgium, Germany, Cyprus\\\n",
    "Verde: \n",
    "Ireland, Portugal, Denmark, Poland, Finland, Greece, Malta, Spain, Slovenia, Great Britain, Romania, Sweden, Hungary, Croatia\n",
    "<img src=\"imagens/culture/lto.png\">\n",
    "<img src=\"imagens/culture/ltoR.png\">"
   ]
  },
  {
   "cell_type": "markdown",
   "id": "ab788cd9",
   "metadata": {},
   "source": [
    "Vermelho: \n",
    "Slovenia, France, Greece, Luxembourg, Finland, Belgium, Austria, Ireland, Malta, Netherlands, Great Britain, Denmark, Cyprus, Sweden\\\n",
    "Verde: \n",
    "Latvia, Bulgaria, Estonia, Lithuania, Romania, Slovak Rep, Czech Rep, Poland, Italy, Hungary, Portugal, Croatia, Germany, Spain\n",
    "<img src=\"imagens/culture/ir.png\">\n",
    "<img src=\"imagens/culture/irR.png\">"
   ]
  },
  {
   "cell_type": "markdown",
   "id": "89855184",
   "metadata": {},
   "source": [
    "## Teste 3:"
   ]
  },
  {
   "cell_type": "markdown",
   "id": "e2618d1f",
   "metadata": {},
   "source": [
    "### Hipotese Nula: Não existe correlação entre fatores religiosos e a pontuação dos paises"
   ]
  },
  {
   "cell_type": "markdown",
   "id": "9d07c2ce",
   "metadata": {},
   "source": [
    "Vermelho: CZ SE NL FR EE BE ES DK DE SI LV LU HU\\\n",
    "Verde: AT FI SK IT PT IE HR LT PL BG MT GR CY RO\n",
    "<img src=\"imagens/rel/Religiosity.png\">\n",
    "<img src=\"imagens/rel/ReligiosityR.png\">"
   ]
  },
  {
   "cell_type": "markdown",
   "id": "e94586a6",
   "metadata": {},
   "source": [
    "Vermelho: CZ FR EE SE SI BE DK DE ES LU NL SK FI\\\n",
    "Verde: LV IE IT AT PL HR MT HU LT BG PT GR CY RO\n",
    "<img src=\"imagens/rel/NonAtheist.png\">\n",
    "<img src=\"imagens/rel/NonAtheistR.png\">"
   ]
  },
  {
   "cell_type": "markdown",
   "id": "fd69def1",
   "metadata": {},
   "source": [
    "Vermelho: NL CZ SE HU FR LV BE ES EE AT FI DK LU\\\n",
    "Verde: DE PT IT HR SI IE SK LT BG PL GR CY MT RO\n",
    "<img src=\"imagens/rel/ReligiousAndAtheists.png\">\n",
    "<img src=\"imagens/rel/ReligiousAndAtheistsR.png\">"
   ]
  },
  {
   "cell_type": "markdown",
   "id": "82589fd1",
   "metadata": {},
   "source": [
    "## Teste 4:"
   ]
  },
  {
   "cell_type": "markdown",
   "id": "83099bf6",
   "metadata": {},
   "source": [
    "### Hipotese Nula: Todos os grupos possuem uma pontuação parecida"
   ]
  },
  {
   "cell_type": "markdown",
   "id": "4f04ba51",
   "metadata": {},
   "source": [
    "<img src=\"imagens/dist/dist.png\">"
   ]
  },
  {
   "cell_type": "markdown",
   "id": "101f5e1e",
   "metadata": {},
   "source": [
    "# Modelo de regressão"
   ]
  },
  {
   "cell_type": "markdown",
   "id": "b5b8095c",
   "metadata": {},
   "source": [
    "### Descrição:\n",
    "\n",
    "O principio dessa regresão é, a partir das informação de um pais, conseguir fazer a predição do seu valor. Como demonstrado pelo teste 4, a pontuação varia dependendo de qual grupo está se olhando, por conta disso será realizado uma regresão linear para cada grupo.\n",
    "\n",
    "É importante resaltar que os dados foram z-normalizados para serem melhores capturados pela regressão"
   ]
  },
  {
   "cell_type": "markdown",
   "id": "c6cd6734",
   "metadata": {},
   "source": [
    "## Lesbian"
   ]
  },
  {
   "cell_type": "markdown",
   "id": "ffb10953",
   "metadata": {},
   "source": [
    "<img src=\"imagens/pred/lesbian.png\">"
   ]
  },
  {
   "cell_type": "markdown",
   "id": "c2c54d71",
   "metadata": {},
   "source": [
    "Coeficientes:\\\n",
    "HDI: -0.1773\\\n",
    "LEB: 0.1076\\\n",
    "EYS: 0.0518\\\n",
    "MYS: 0.0971\\\n",
    "GNI: 0.0876\\\n",
    "GNI_HDI: -0.0425\\\n",
    "pdi: -0.0021\\\n",
    "idv: -0.0250\\\n",
    "mas: -0.0096\\\n",
    "uai: -0.0110\\\n",
    "ltowvs: -0.0128\\\n",
    "ivr: -0.0278\\\n",
    "Religiosity: -0.0028\\\n",
    "NonAtheist: 0.0002\\\n",
    "ReligiousAndAtheists: -0.0046"
   ]
  },
  {
   "cell_type": "markdown",
   "id": "6bb53e02",
   "metadata": {},
   "source": [
    "Mean_squared_error : 0.0010\\\n",
    "R_score: 0.8476"
   ]
  },
  {
   "cell_type": "markdown",
   "id": "1e2c7e72",
   "metadata": {},
   "source": [
    "## Gay"
   ]
  },
  {
   "cell_type": "markdown",
   "id": "b96dbcf5",
   "metadata": {},
   "source": [
    "<img src=\"imagens/pred/gay.png\">"
   ]
  },
  {
   "cell_type": "markdown",
   "id": "cfa8dd05",
   "metadata": {},
   "source": [
    "Coeficientes:\\\n",
    "HDI: 0.0120\\\n",
    "LEB: -0.0010\\\n",
    "EYS: -0.0053\\\n",
    "MYS: -0.0155\\\n",
    "GNI: -0.0004\\\n",
    "GNI_HDI: 0.0007\\\n",
    "pdi: 0.0001\\\n",
    "idv: 0.0043\\\n",
    "mas: -0.0003\\\n",
    "uai: -0.0018\\\n",
    "ltowvs: 0.0006\\\n",
    "ivr: 0.0181\\\n",
    "Religiosity: -0.0050\\\n",
    "NonAtheist: -0.0109\\\n",
    "ReligiousAndAtheists: -0.0001"
   ]
  },
  {
   "cell_type": "markdown",
   "id": "7c59ed17",
   "metadata": {},
   "source": [
    "Mean_squared_error : 0.0003\\\n",
    "R_score: 0.7845"
   ]
  },
  {
   "cell_type": "markdown",
   "id": "f644a64b",
   "metadata": {},
   "source": [
    "## BISEXUAL WOMAN"
   ]
  },
  {
   "cell_type": "markdown",
   "id": "7f8780ad",
   "metadata": {},
   "source": [
    "<img src=\"imagens/pred/biw.png\">"
   ]
  },
  {
   "cell_type": "markdown",
   "id": "4e1107d6",
   "metadata": {},
   "source": [
    "Coeficientes:\\\n",
    "HDI: 0.3743\\\n",
    "LEB: -0.1435\\\n",
    "EYS: -0.1370\\\n",
    "MYS: -0.1500\\\n",
    "GNI: -0.1983\\\n",
    "GNI_HDI: 0.0192\\\n",
    "pdi: -0.0253\\\n",
    "idv: 0.0332\\\n",
    "mas: -0.0219\\\n",
    "uai: -0.0055\\\n",
    "ltowvs: 0.0238\\\n",
    "ivr: 0.0728\\\n",
    "Religiosity: 0.0078\\\n",
    "NonAtheist: -0.0189\\\n",
    "ReligiousAndAtheists: 0.0251"
   ]
  },
  {
   "cell_type": "markdown",
   "id": "93c28df9",
   "metadata": {},
   "source": [
    "Mean_squared_error : 0.0016\\\n",
    "R_score: 0.5670"
   ]
  },
  {
   "cell_type": "markdown",
   "id": "2ebc8947",
   "metadata": {},
   "source": [
    "## BISEXUAL MALE"
   ]
  },
  {
   "cell_type": "markdown",
   "id": "8acdbafd",
   "metadata": {},
   "source": [
    "<img src=\"imagens/pred/bim.png\">"
   ]
  },
  {
   "cell_type": "markdown",
   "id": "119406d1",
   "metadata": {},
   "source": [
    "Coeficientes:\\\n",
    "HDI: -0.1775\\\n",
    "LEB: 0.1167\\\n",
    "EYS: 0.0507\\\n",
    "MYS: 0.1328\\\n",
    "GNI: 0.1064\\\n",
    "GNI_HDI: -0.0551\\\n",
    "pdi: -0.0033\\\n",
    "idv: -0.0320\\\n",
    "mas: -0.0325\\\n",
    "uai: 0.0270\\\n",
    "ltowvs: -0.0197\\\n",
    "ivr: -0.0488\\\n",
    "Religiosity: 0.0002\\\n",
    "NonAtheist: -0.0023\\\n",
    "ReligiousAndAtheists: 0.0019"
   ]
  },
  {
   "cell_type": "markdown",
   "id": "0286af1a",
   "metadata": {},
   "source": [
    "Mean_squared_error : 0.0043\\\n",
    "R_score: 0.5391"
   ]
  },
  {
   "cell_type": "markdown",
   "id": "ade84c35",
   "metadata": {},
   "source": [
    "## Trans"
   ]
  },
  {
   "cell_type": "markdown",
   "id": "948c2e97",
   "metadata": {},
   "source": [
    "<img src=\"imagens/pred/trans.png\">"
   ]
  },
  {
   "cell_type": "markdown",
   "id": "ace262d9",
   "metadata": {},
   "source": [
    "Coeficientes:\\\n",
    "HDI: -0.3458\\\n",
    "LEB: 0.2070\\\n",
    "EYS: 0.1336\\\n",
    "MYS: 0.1755\\\n",
    "GNI: 0.1357\\\n",
    "GNI_HDI: -0.0649\\\n",
    "pdi: 0.0107\\\n",
    "idv: -0.0420\\\n",
    "mas: -0.0290\\\n",
    "uai: 0.0286\\\n",
    "ltowvs: -0.0222\\\n",
    "ivr: -0.0574\\\n",
    "Religiosity: -0.0044\\\n",
    "NonAtheist: 0.0032\\\n",
    "ReligiousAndAtheists: -0.0092"
   ]
  },
  {
   "cell_type": "markdown",
   "id": "0731daba",
   "metadata": {},
   "source": [
    "Mean_squared_error : 0.0024\\\n",
    "R_score: 0.4973"
   ]
  },
  {
   "cell_type": "markdown",
   "id": "de21bfb5",
   "metadata": {},
   "source": [
    "# Conclusão:"
   ]
  },
  {
   "cell_type": "markdown",
   "id": "b39b2353",
   "metadata": {},
   "source": [
    "É importante resaltar para criteiros da regressão que o numero de instancias diferentes usadas, isto é, o numero de paises acabou sendo muito pequeno, aproximadamente 23. Tentou-se contornar esse fato gerando bootstrap da população, mas mesmo o numero de y's aumentando, o numero de x's continuou o mesmo, lenvando o modelo a ser bastante fraco com os valores bastante oscilantes. Isso fez com que os valores dos coeficientes não batesem com a tendencia descrita pela analise e pelos testes.\n",
    "\n",
    "De acordo com os teste de hipotese, podemos presupor:\n",
    "1. As situções de violência diminuem em paises com melhores indicadores sociais, como demonstrado pela hipotese nula do teste 1.\n",
    "2. Parece haver uma melhor situação em paises que possuem uma maior coletividade e empatia com os cidadões indepedente de ser mais imedita ou calculada\n",
    "3. Em relação a religiosidade de um país, parece influenciar negativamente na sensação de segurança, existindo diferenças entre os ateus e os agnosticos"
   ]
  },
  {
   "cell_type": "markdown",
   "id": "3bcddcfb",
   "metadata": {},
   "source": [
    "## Limitações do trabalho:\n",
    "1. Como já dito na introdução, a forma como os dados foram transforamados em numeros foi um pouco arbitraria, logo não é possivel olhar o valor numerico sozinho e afirmar se um pais é bom ou ruim.\n",
    "2. Toda a analise foi feita em um população bastante especifica e de primeiro mundo, o que torna bastante improvavel que as conclusões sejam totalmente validas para paises de outros continentes, principamente os subdesenvolvidos."
   ]
  }
 ],
 "metadata": {
  "kernelspec": {
   "display_name": "Python 3",
   "language": "python",
   "name": "python3"
  },
  "language_info": {
   "codemirror_mode": {
    "name": "ipython",
    "version": 3
   },
   "file_extension": ".py",
   "mimetype": "text/x-python",
   "name": "python",
   "nbconvert_exporter": "python",
   "pygments_lexer": "ipython3",
   "version": "3.8.8"
  }
 },
 "nbformat": 4,
 "nbformat_minor": 5
}
